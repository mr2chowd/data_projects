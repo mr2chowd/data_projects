{
 "cells": [
  {
   "cell_type": "markdown",
   "id": "cb7eca99",
   "metadata": {},
   "source": [
    "## 1. Analyzing project data\n",
    "\n",
    "# SAT Exams\n",
    "\n",
    "The SAT (Scholastic Assessment Test) is a standardized test widely used for college admissions in the United States. It assesses a student's knowledge and skills in reading, writing, and mathematics. The exam consists of multiple-choice questions and an optional essay section.\n",
    "\n",
    "## Test Sections\n",
    "\n",
    "The SAT exam is divided into the following sections:\n",
    "\n",
    "1. Reading: This section evaluates a student's reading comprehension skills through passages and questions based on them.\n",
    "2. Writing and Language: This section focuses on grammar, sentence structure, and effective language usage.\n",
    "3. Mathematics: The math section assesses a student's problem-solving abilities and mathematical reasoning. It includes both multiple-choice and grid-in questions.\n",
    "4. Essay (Optional): The essay section measures a student's ability to analyze an argument and communicate their ideas effectively.\n",
    "\n",
    "## Scoring\n",
    "\n",
    "Each section of the SAT is scored on a scale of 200 to 800 points, resulting in a total score between 400 and 1600. The essay section is scored separately on a scale of 6 to 24.\n",
    "\n",
    "## Brief\n",
    "<br>\n",
    "<p>Analyzing the performance of schools is important for a variety of stakeholders, including policy and education professionals, researchers, government, and even parents considering which school their children should attend. </p>\n",
    "<p>In this notebook, we will take a look at data on SATs across public schools in a particular city. Our database contains a single table:</p>\n",
    "<table>\n",
    "<thead>\n",
    "<tr>\n",
    "<th>column</th>\n",
    "<th>type</th>\n",
    "<th>description</th>\n",
    "</tr>\n",
    "</thead>\n",
    "<tbody>\n",
    "<tr>\n",
    "<td><code>school_name</code></td>\n",
    "<td><code>varchar</code></td>\n",
    "<td>Name of school</td>\n",
    "</tr>\n",
    "<tr>\n",
    "<td><code>borough</code></td>\n",
    "<td><code>varchar</code></td>\n",
    "<td>Borough that the school is located in</td>\n",
    "</tr>\n",
    "<tr>\n",
    "<td><code>building_code</code></td>\n",
    "<td><code>varchar</code></td>\n",
    "<td>Code for the building</td>\n",
    "</tr>\n",
    "<tr>\n",
    "<td><code>average_math</code></td>\n",
    "<td><code>int</code></td>\n",
    "<td>Average math score for SATs</td>\n",
    "</tr>\n",
    "<tr>\n",
    "<td><code>average_reading</code></td>\n",
    "<td><code>int</code></td>\n",
    "<td>Average reading score for SATs</td>\n",
    "</tr>\n",
    "<tr>\n",
    "<td><code>average_writing</code></td>\n",
    "<td><code>int</code></td>\n",
    "<td>Average writing score for SATs</td>\n",
    "</tr>\n",
    "<tr>\n",
    "<td><code>percent_tested</code></td>\n",
    "<td><code>numeric</code></td>\n",
    "<td>Percentage of students completing SATs</td>\n",
    "</tr>\n",
    "</tbody>\n",
    "</table>\n",
    "<p>Let's familiarize ourselves with the data by taking a looking at the first few schools!</p>"
   ]
  },
  {
   "cell_type": "code",
   "execution_count": null,
   "id": "c77d3ce0",
   "metadata": {},
   "outputs": [],
   "source": [
    "# -- Select all columns from the database\n",
    "# -- Display only the first ten rows"
   ]
  },
  {
   "cell_type": "markdown",
   "id": "b8386812",
   "metadata": {},
   "source": [
    "## 2. Count rows with percent_tested missing and total number of schools\n",
    "<p>It looks like the first school in our database had no data in the <code>percent_tested</code> column! </p>\n",
    "<p>Let's identify how many schools have missing data for this column, indicating schools that did not report the percentage of students tested. </p>\n",
    "<p>To understand whether this missing data problem is widespread in New York, we will also calculate the total number of schools in the database.</p>"
   ]
  },
  {
   "cell_type": "code",
   "execution_count": null,
   "id": "b250892f",
   "metadata": {},
   "outputs": [],
   "source": []
  },
  {
   "cell_type": "markdown",
   "id": "d4778626",
   "metadata": {},
   "source": [
    "## 3. Count the number of unique building_code values\n",
    "<p>There are 20 schools with missing data for <code>percent_tested</code>, which only makes up 5% of all rows in the database.</p>\n",
    "<p>Now let's turn our attention to how many schools there are. When we displayed the first ten rows of the database, several had the same value in the <code>building_code</code> column, suggesting there are multiple schools based in the same location. Let's find out how many unique school locations exist in our database. </p>\n"
   ]
  },
  {
   "cell_type": "code",
   "execution_count": null,
   "id": "88d33306",
   "metadata": {},
   "outputs": [],
   "source": []
  },
  {
   "cell_type": "markdown",
   "id": "974ae809",
   "metadata": {},
   "source": [
    "## 4. Lets find the best math school\n",
    "<p>Out of 375 schools, only 233 (62%) have a unique <code>building_code</code>! </p>\n",
    "<p>Now let's start our analysis of school performance. As each school reports individually, we will treat them this way rather than grouping them by <code>building_code</code>. </p>\n",
    "<p>First, let's find all schools with an average math score of at least 80% (out of 800). </p>"
   ]
  },
  {
   "cell_type": "code",
   "execution_count": null,
   "id": "e3758bb9",
   "metadata": {},
   "outputs": [],
   "source": [
    "-- Select school and average_math\n",
    "-- Filter for average_math 640 or higher\n",
    "-- Display from largest to smallest average_math\n"
   ]
  },
  {
   "cell_type": "code",
   "execution_count": null,
   "id": "6c248558",
   "metadata": {},
   "outputs": [],
   "source": []
  },
  {
   "cell_type": "markdown",
   "id": "f9f34332",
   "metadata": {},
   "source": [
    "## 5. Find the lowest reading score\n",
    "<p>Wow, there are only ten public schools in New York City with an average math score of at least 640!</p>\n",
    "<p>Now let's look at the other end of the spectrum and find the single lowest score for reading. We will only select the score, not the school, to avoid naming and shaming!</p>"
   ]
  },
  {
   "cell_type": "markdown",
   "id": "30b472c6",
   "metadata": {},
   "source": [
    "## 6. School for best writing and top 10 school\n",
    "<p>The lowest average score for reading across schools in New York City is less than 40% of the total available points! </p>\n",
    "<p>Now let's find the school with the highest average writing score.</p>\n",
    "\n"
   ]
  },
  {
   "cell_type": "code",
   "execution_count": 12,
   "id": "653aa868",
   "metadata": {},
   "outputs": [],
   "source": [
    "# -- Find the top score for average_writing\n",
    "# -- Group the results by school\n",
    "# -- Sort by max_writing in descending order\n",
    "# -- Reduce output to one school\n",
    "\n",
    "# -- past b : \n",
    "\n",
    "# -- Calculate average_sat\n",
    "# -- Group by school_name\n",
    "# -- Sort by average_sat in descending order\n",
    "# -- Display the top ten results\n",
    "    "
   ]
  },
  {
   "cell_type": "markdown",
   "id": "3ae08dc7",
   "metadata": {},
   "source": [
    "## 8. Ranking boroughs\n",
    "<p>There are four schools with average SAT scores of over 2000! Now let's analyze performance by New York City borough. </p>\n",
    "<p>We will build a query that calculates the number of schools and the average SAT score per borough!</p>"
   ]
  },
  {
   "cell_type": "code",
   "execution_count": 13,
   "id": "12711e83",
   "metadata": {},
   "outputs": [],
   "source": [
    "# -- Select borough and a count of all schools, aliased as num_schools\n",
    "# -- Calculate the sum of average_math, average_reading, and average_writing, divided by a count of all schools, aliased as average_borough_sat\n",
    "# -- Organize results by borough\n",
    "# -- Display by average_borough_sat in descending order"
   ]
  },
  {
   "cell_type": "markdown",
   "id": "30e6eeca",
   "metadata": {},
   "source": [
    "## 9. Brooklyn numbers\n",
    "<p>It appears that schools in Staten Island, on average, produce higher scores across all three categories. However, there are only 10 schools in Staten Island, compared to an average of 91 schools in the other four boroughs!</p>\n",
    "<p>For our final query of the database, let's focus on Brooklyn, which has 109 schools. We wish to find the top five schools for math performance.</p>"
   ]
  },
  {
   "cell_type": "code",
   "execution_count": 14,
   "id": "7b607aeb",
   "metadata": {},
   "outputs": [],
   "source": [
    "# -- Select school and average_math\n",
    "# -- Filter for schools in Brooklyn\n",
    "# -- Aggregate on school_name\n",
    "# -- Display results from highest average_math and restrict output to five rows"
   ]
  },
  {
   "cell_type": "code",
   "execution_count": null,
   "id": "ba2d975c",
   "metadata": {},
   "outputs": [],
   "source": []
  },
  {
   "cell_type": "code",
   "execution_count": null,
   "id": "7b9c28d4",
   "metadata": {},
   "outputs": [],
   "source": []
  },
  {
   "cell_type": "code",
   "execution_count": null,
   "id": "4818892c",
   "metadata": {},
   "outputs": [],
   "source": []
  },
  {
   "cell_type": "code",
   "execution_count": null,
   "id": "0bc10c9e",
   "metadata": {},
   "outputs": [],
   "source": []
  },
  {
   "cell_type": "code",
   "execution_count": null,
   "id": "7c63d9c9",
   "metadata": {},
   "outputs": [],
   "source": []
  }
 ],
 "metadata": {
  "kernelspec": {
   "display_name": "Python 3 (ipykernel)",
   "language": "python",
   "name": "python3"
  },
  "language_info": {
   "codemirror_mode": {
    "name": "ipython",
    "version": 3
   },
   "file_extension": ".py",
   "mimetype": "text/x-python",
   "name": "python",
   "nbconvert_exporter": "python",
   "pygments_lexer": "ipython3",
   "version": "3.10.4"
  }
 },
 "nbformat": 4,
 "nbformat_minor": 5
}
