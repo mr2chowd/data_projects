{
 "cells": [
  {
   "cell_type": "markdown",
   "metadata": {},
   "source": [
    "# Project 1: Explanatory Data Analysis & Data Presentation (Movies Dataset)"
   ]
  },
  {
   "cell_type": "markdown",
   "metadata": {},
   "source": [
    "# Project Brief for Self-Coders"
   ]
  },
  {
   "cell_type": "markdown",
   "metadata": {},
   "source": [
    "Here you´ll have the opportunity to code major parts of Project 1 on your own. If you need any help or inspiration, have a look at the Videos or the Jupyter Notebook with the full code. <br> <br>\n",
    "Keep in mind that it´s all about __getting the right results/conclusions__. It´s not about finding the identical code. Things can be coded in many different ways. Even if you come to the same conclusions, it´s very unlikely that we have the very same code. "
   ]
  },
  {
   "cell_type": "markdown",
   "metadata": {},
   "source": [
    "## Data Import and first Inspection"
   ]
  },
  {
   "cell_type": "markdown",
   "metadata": {},
   "source": [
    "1. __Import__ the movies dataset from the CSV file \"movies_complete.csv\". __Inspect__ the data."
   ]
  },
  {
   "cell_type": "markdown",
   "metadata": {},
   "source": [
    "__Some additional information on Features/Columns__:"
   ]
  },
  {
   "cell_type": "markdown",
   "metadata": {},
   "source": [
    "* **id:** The ID of the movie (clear/unique identifier).\n",
    "* **title:** The Official Title of the movie.\n",
    "* **tagline:** The tagline of the movie.\n",
    "* **release_date:** Theatrical Release Date of the movie.\n",
    "* **genres:** Genres associated with the movie.\n",
    "* **belongs_to_collection:** Gives information on the movie series/franchise the particular film belongs to.\n",
    "* **original_language:** The language in which the movie was originally shot in.\n",
    "* **budget_musd:** The budget of the movie in million dollars.\n",
    "* **revenue_musd:** The total revenue of the movie in million dollars.\n",
    "* **production_companies:** Production companies involved with the making of the movie.\n",
    "* **production_countries:** Countries where the movie was shot/produced in.\n",
    "* **vote_count:** The number of votes by users, as counted by TMDB.\n",
    "* **vote_average:** The average rating of the movie.\n",
    "* **popularity:** The Popularity Score assigned by TMDB.\n",
    "* **runtime:** The runtime of the movie in minutes.\n",
    "* **overview:** A brief blurb of the movie.\n",
    "* **spoken_languages:** Spoken languages in the film.\n",
    "* **poster_path:** The URL of the poster image.\n",
    "* **cast:** (Main) Actors appearing in the movie.\n",
    "* **cast_size:** number of Actors appearing in the movie.\n",
    "* **director:** Director of the movie.\n",
    "* **crew_size:** Size of the film crew (incl. director, excl. actors)."
   ]
  },
  {
   "cell_type": "code",
   "execution_count": 24,
   "metadata": {},
   "outputs": [
    {
     "name": "stdout",
     "output_type": "stream",
     "text": [
      "      id                        title  \\\n",
      "0    862                    Toy Story   \n",
      "1   8844                      Jumanji   \n",
      "2  15602             Grumpier Old Men   \n",
      "3  31357            Waiting to Exhale   \n",
      "4  11862  Father of the Bride Part II   \n",
      "\n",
      "                                             tagline release_date  \\\n",
      "0                                                NaN   1995-10-30   \n",
      "1          Roll the dice and unleash the excitement!   1995-12-15   \n",
      "2  Still Yelling. Still Fighting. Still Ready for...   1995-12-22   \n",
      "3  Friends are the people who let you be yourself...   1995-12-22   \n",
      "4  Just When His World Is Back To Normal... He's ...   1995-02-10   \n",
      "\n",
      "                     genres           belongs_to_collection original_language  \\\n",
      "0   Animation|Comedy|Family            Toy Story Collection                en   \n",
      "1  Adventure|Fantasy|Family                             NaN                en   \n",
      "2            Romance|Comedy       Grumpy Old Men Collection                en   \n",
      "3      Comedy|Drama|Romance                             NaN                en   \n",
      "4                    Comedy  Father of the Bride Collection                en   \n",
      "\n",
      "   budget_musd  revenue_musd  \\\n",
      "0         30.0    373.554033   \n",
      "1         65.0    262.797249   \n",
      "2          NaN           NaN   \n",
      "3         16.0     81.452156   \n",
      "4          NaN     76.578911   \n",
      "\n",
      "                                production_companies  ... vote_average  \\\n",
      "0                            Pixar Animation Studios  ...          7.7   \n",
      "1  TriStar Pictures|Teitler Film|Interscope Commu...  ...          6.9   \n",
      "2                        Warner Bros.|Lancaster Gate  ...          6.5   \n",
      "3             Twentieth Century Fox Film Corporation  ...          6.1   \n",
      "4          Sandollar Productions|Touchstone Pictures  ...          5.7   \n",
      "\n",
      "   popularity  runtime                                           overview  \\\n",
      "0   21.946943     81.0  Led by Woody, Andy's toys live happily in his ...   \n",
      "1   17.015539    104.0  When siblings Judy and Peter discover an encha...   \n",
      "2   11.712900    101.0  A family wedding reignites the ancient feud be...   \n",
      "3    3.859495    127.0  Cheated on, mistreated and stepped on, the wom...   \n",
      "4    8.387519    106.0  Just when George Banks has recovered from his ...   \n",
      "\n",
      "   spoken_languages                                        poster_path  \\\n",
      "0           English  <img src='http://image.tmdb.org/t/p/w185//uXDf...   \n",
      "1  English|Français  <img src='http://image.tmdb.org/t/p/w185//vgpX...   \n",
      "2           English  <img src='http://image.tmdb.org/t/p/w185//1FSX...   \n",
      "3           English  <img src='http://image.tmdb.org/t/p/w185//4wjG...   \n",
      "4           English  <img src='http://image.tmdb.org/t/p/w185//lf9R...   \n",
      "\n",
      "                                                cast cast_size crew_size  \\\n",
      "0  Tom Hanks|Tim Allen|Don Rickles|Jim Varney|Wal...        13       106   \n",
      "1  Robin Williams|Jonathan Hyde|Kirsten Dunst|Bra...        26        16   \n",
      "2  Walter Matthau|Jack Lemmon|Ann-Margret|Sophia ...         7         4   \n",
      "3  Whitney Houston|Angela Bassett|Loretta Devine|...        10        10   \n",
      "4  Steve Martin|Diane Keaton|Martin Short|Kimberl...        12         7   \n",
      "\n",
      "          director  \n",
      "0    John Lasseter  \n",
      "1     Joe Johnston  \n",
      "2    Howard Deutch  \n",
      "3  Forest Whitaker  \n",
      "4    Charles Shyer  \n",
      "\n",
      "[5 rows x 22 columns]\n"
     ]
    }
   ],
   "source": [
    "import pandas as pd\n",
    "movies=pd.read_csv(\"movies_complete.csv\")\n",
    "print(movies.head())"
   ]
  },
  {
   "cell_type": "code",
   "execution_count": 25,
   "metadata": {},
   "outputs": [
    {
     "data": {
      "text/plain": [
       "(44691, 22)"
      ]
     },
     "execution_count": 25,
     "metadata": {},
     "output_type": "execute_result"
    }
   ],
   "source": [
    "movies.shape"
   ]
  },
  {
   "cell_type": "code",
   "execution_count": 26,
   "metadata": {},
   "outputs": [
    {
     "name": "stdout",
     "output_type": "stream",
     "text": [
      "<class 'pandas.core.frame.DataFrame'>\n",
      "RangeIndex: 44691 entries, 0 to 44690\n",
      "Data columns (total 22 columns):\n",
      " #   Column                 Non-Null Count  Dtype  \n",
      "---  ------                 --------------  -----  \n",
      " 0   id                     44691 non-null  int64  \n",
      " 1   title                  44691 non-null  object \n",
      " 2   tagline                20284 non-null  object \n",
      " 3   release_date           44657 non-null  object \n",
      " 4   genres                 42586 non-null  object \n",
      " 5   belongs_to_collection  4463 non-null   object \n",
      " 6   original_language      44681 non-null  object \n",
      " 7   budget_musd            8854 non-null   float64\n",
      " 8   revenue_musd           7385 non-null   float64\n",
      " 9   production_companies   33356 non-null  object \n",
      " 10  production_countries   38835 non-null  object \n",
      " 11  vote_count             44691 non-null  float64\n",
      " 12  vote_average           42077 non-null  float64\n",
      " 13  popularity             44691 non-null  float64\n",
      " 14  runtime                43179 non-null  float64\n",
      " 15  overview               43740 non-null  object \n",
      " 16  spoken_languages       41094 non-null  object \n",
      " 17  poster_path            44467 non-null  object \n",
      " 18  cast                   42502 non-null  object \n",
      " 19  cast_size              44691 non-null  int64  \n",
      " 20  crew_size              44691 non-null  int64  \n",
      " 21  director               43960 non-null  object \n",
      "dtypes: float64(6), int64(3), object(13)\n",
      "memory usage: 7.5+ MB\n"
     ]
    }
   ],
   "source": [
    "movies.info()"
   ]
  },
  {
   "cell_type": "code",
   "execution_count": 27,
   "metadata": {},
   "outputs": [
    {
     "name": "stdout",
     "output_type": "stream",
     "text": [
      "             title                 tagline release_date genres  \\\n",
      "count        44691                   20284        44657  42586   \n",
      "unique       41605                   20171        17225   4044   \n",
      "top     Cinderella  Based on a true story.   2008-01-01  Drama   \n",
      "freq            11                       7          133   4935   \n",
      "\n",
      "       belongs_to_collection original_language       production_companies  \\\n",
      "count                   4463             44681                      33356   \n",
      "unique                  1691                89                      22537   \n",
      "top          The Bowery Boys                en  Metro-Goldwyn-Mayer (MGM)   \n",
      "freq                      29             31755                        741   \n",
      "\n",
      "            production_countries                              overview  \\\n",
      "count                      38835                                 43740   \n",
      "unique                      2377                                 43715   \n",
      "top     United States of America  Adaptation of the Jane Austen novel.   \n",
      "freq                       17723                                     3   \n",
      "\n",
      "       spoken_languages                                        poster_path  \\\n",
      "count             41094                                              44467   \n",
      "unique             1828                                              44456   \n",
      "top             English  <img src='http://image.tmdb.org/t/p/w185//qW1o...   \n",
      "freq              22189                                                  3   \n",
      "\n",
      "                  cast   director  \n",
      "count            42502      43960  \n",
      "unique           42166      17349  \n",
      "top     Georges Méliès  John Ford  \n",
      "freq                24         66  \n"
     ]
    }
   ],
   "source": [
    "print(movies.describe(include='object'))"
   ]
  },
  {
   "cell_type": "code",
   "execution_count": 28,
   "metadata": {},
   "outputs": [
    {
     "data": {
      "text/plain": [
       "id                           0\n",
       "title                        0\n",
       "tagline                  24407\n",
       "release_date                34\n",
       "genres                    2105\n",
       "belongs_to_collection    40228\n",
       "original_language           10\n",
       "budget_musd              35837\n",
       "revenue_musd             37306\n",
       "production_companies     11335\n",
       "production_countries      5856\n",
       "vote_count                   0\n",
       "vote_average              2614\n",
       "popularity                   0\n",
       "runtime                   1512\n",
       "overview                   951\n",
       "spoken_languages          3597\n",
       "poster_path                224\n",
       "cast                      2189\n",
       "cast_size                    0\n",
       "crew_size                    0\n",
       "director                   731\n",
       "dtype: int64"
      ]
     },
     "execution_count": 28,
     "metadata": {},
     "output_type": "execute_result"
    }
   ],
   "source": [
    "null=movies.isnull().sum()\n",
    "null"
   ]
  },
  {
   "cell_type": "code",
   "execution_count": 29,
   "metadata": {},
   "outputs": [
    {
     "data": {
      "text/plain": [
       "Index(['id', 'title', 'tagline', 'release_date', 'genres',\n",
       "       'belongs_to_collection', 'original_language', 'budget_musd',\n",
       "       'revenue_musd', 'production_companies', 'production_countries',\n",
       "       'vote_count', 'vote_average', 'popularity', 'runtime', 'overview',\n",
       "       'spoken_languages', 'poster_path', 'cast', 'cast_size', 'crew_size',\n",
       "       'director'],\n",
       "      dtype='object')"
      ]
     },
     "execution_count": 29,
     "metadata": {},
     "output_type": "execute_result"
    }
   ],
   "source": [
    "movies.columns"
   ]
  },
  {
   "cell_type": "code",
   "execution_count": 30,
   "metadata": {},
   "outputs": [
    {
     "data": {
      "text/plain": [
       "0"
      ]
     },
     "execution_count": 30,
     "metadata": {},
     "output_type": "execute_result"
    }
   ],
   "source": [
    "movies.duplicated().sum()"
   ]
  },
  {
   "cell_type": "code",
   "execution_count": 31,
   "metadata": {},
   "outputs": [
    {
     "data": {
      "text/html": [
       "<div>\n",
       "<style scoped>\n",
       "    .dataframe tbody tr th:only-of-type {\n",
       "        vertical-align: middle;\n",
       "    }\n",
       "\n",
       "    .dataframe tbody tr th {\n",
       "        vertical-align: top;\n",
       "    }\n",
       "\n",
       "    .dataframe thead th {\n",
       "        text-align: right;\n",
       "    }\n",
       "</style>\n",
       "<table border=\"1\" class=\"dataframe\">\n",
       "  <thead>\n",
       "    <tr style=\"text-align: right;\">\n",
       "      <th></th>\n",
       "      <th>id</th>\n",
       "      <th>title</th>\n",
       "      <th>tagline</th>\n",
       "      <th>release_date</th>\n",
       "      <th>genres</th>\n",
       "      <th>belongs_to_collection</th>\n",
       "      <th>original_language</th>\n",
       "      <th>budget_musd</th>\n",
       "      <th>revenue_musd</th>\n",
       "      <th>production_companies</th>\n",
       "      <th>...</th>\n",
       "      <th>vote_average</th>\n",
       "      <th>popularity</th>\n",
       "      <th>runtime</th>\n",
       "      <th>overview</th>\n",
       "      <th>spoken_languages</th>\n",
       "      <th>poster_path</th>\n",
       "      <th>cast</th>\n",
       "      <th>cast_size</th>\n",
       "      <th>crew_size</th>\n",
       "      <th>director</th>\n",
       "    </tr>\n",
       "  </thead>\n",
       "  <tbody>\n",
       "    <tr>\n",
       "      <th>0</th>\n",
       "      <td>862</td>\n",
       "      <td>Toy Story</td>\n",
       "      <td>NaN</td>\n",
       "      <td>1995-10-30</td>\n",
       "      <td>Animation|Comedy|Family</td>\n",
       "      <td>Toy Story Collection</td>\n",
       "      <td>en</td>\n",
       "      <td>30.0</td>\n",
       "      <td>373.554033</td>\n",
       "      <td>Pixar Animation Studios</td>\n",
       "      <td>...</td>\n",
       "      <td>7.7</td>\n",
       "      <td>21.946943</td>\n",
       "      <td>81.0</td>\n",
       "      <td>Led by Woody, Andy's toys live happily in his ...</td>\n",
       "      <td>English</td>\n",
       "      <td>&lt;img src='http://image.tmdb.org/t/p/w185//uXDf...</td>\n",
       "      <td>Tom Hanks|Tim Allen|Don Rickles|Jim Varney|Wal...</td>\n",
       "      <td>13</td>\n",
       "      <td>106</td>\n",
       "      <td>John Lasseter</td>\n",
       "    </tr>\n",
       "    <tr>\n",
       "      <th>1</th>\n",
       "      <td>8844</td>\n",
       "      <td>Jumanji</td>\n",
       "      <td>Roll the dice and unleash the excitement!</td>\n",
       "      <td>1995-12-15</td>\n",
       "      <td>Adventure|Fantasy|Family</td>\n",
       "      <td>NaN</td>\n",
       "      <td>en</td>\n",
       "      <td>65.0</td>\n",
       "      <td>262.797249</td>\n",
       "      <td>TriStar Pictures|Teitler Film|Interscope Commu...</td>\n",
       "      <td>...</td>\n",
       "      <td>6.9</td>\n",
       "      <td>17.015539</td>\n",
       "      <td>104.0</td>\n",
       "      <td>When siblings Judy and Peter discover an encha...</td>\n",
       "      <td>English|Français</td>\n",
       "      <td>&lt;img src='http://image.tmdb.org/t/p/w185//vgpX...</td>\n",
       "      <td>Robin Williams|Jonathan Hyde|Kirsten Dunst|Bra...</td>\n",
       "      <td>26</td>\n",
       "      <td>16</td>\n",
       "      <td>Joe Johnston</td>\n",
       "    </tr>\n",
       "    <tr>\n",
       "      <th>2</th>\n",
       "      <td>15602</td>\n",
       "      <td>Grumpier Old Men</td>\n",
       "      <td>Still Yelling. Still Fighting. Still Ready for...</td>\n",
       "      <td>1995-12-22</td>\n",
       "      <td>Romance|Comedy</td>\n",
       "      <td>Grumpy Old Men Collection</td>\n",
       "      <td>en</td>\n",
       "      <td>NaN</td>\n",
       "      <td>NaN</td>\n",
       "      <td>Warner Bros.|Lancaster Gate</td>\n",
       "      <td>...</td>\n",
       "      <td>6.5</td>\n",
       "      <td>11.712900</td>\n",
       "      <td>101.0</td>\n",
       "      <td>A family wedding reignites the ancient feud be...</td>\n",
       "      <td>English</td>\n",
       "      <td>&lt;img src='http://image.tmdb.org/t/p/w185//1FSX...</td>\n",
       "      <td>Walter Matthau|Jack Lemmon|Ann-Margret|Sophia ...</td>\n",
       "      <td>7</td>\n",
       "      <td>4</td>\n",
       "      <td>Howard Deutch</td>\n",
       "    </tr>\n",
       "    <tr>\n",
       "      <th>3</th>\n",
       "      <td>31357</td>\n",
       "      <td>Waiting to Exhale</td>\n",
       "      <td>Friends are the people who let you be yourself...</td>\n",
       "      <td>1995-12-22</td>\n",
       "      <td>Comedy|Drama|Romance</td>\n",
       "      <td>NaN</td>\n",
       "      <td>en</td>\n",
       "      <td>16.0</td>\n",
       "      <td>81.452156</td>\n",
       "      <td>Twentieth Century Fox Film Corporation</td>\n",
       "      <td>...</td>\n",
       "      <td>6.1</td>\n",
       "      <td>3.859495</td>\n",
       "      <td>127.0</td>\n",
       "      <td>Cheated on, mistreated and stepped on, the wom...</td>\n",
       "      <td>English</td>\n",
       "      <td>&lt;img src='http://image.tmdb.org/t/p/w185//4wjG...</td>\n",
       "      <td>Whitney Houston|Angela Bassett|Loretta Devine|...</td>\n",
       "      <td>10</td>\n",
       "      <td>10</td>\n",
       "      <td>Forest Whitaker</td>\n",
       "    </tr>\n",
       "    <tr>\n",
       "      <th>4</th>\n",
       "      <td>11862</td>\n",
       "      <td>Father of the Bride Part II</td>\n",
       "      <td>Just When His World Is Back To Normal... He's ...</td>\n",
       "      <td>1995-02-10</td>\n",
       "      <td>Comedy</td>\n",
       "      <td>Father of the Bride Collection</td>\n",
       "      <td>en</td>\n",
       "      <td>NaN</td>\n",
       "      <td>76.578911</td>\n",
       "      <td>Sandollar Productions|Touchstone Pictures</td>\n",
       "      <td>...</td>\n",
       "      <td>5.7</td>\n",
       "      <td>8.387519</td>\n",
       "      <td>106.0</td>\n",
       "      <td>Just when George Banks has recovered from his ...</td>\n",
       "      <td>English</td>\n",
       "      <td>&lt;img src='http://image.tmdb.org/t/p/w185//lf9R...</td>\n",
       "      <td>Steve Martin|Diane Keaton|Martin Short|Kimberl...</td>\n",
       "      <td>12</td>\n",
       "      <td>7</td>\n",
       "      <td>Charles Shyer</td>\n",
       "    </tr>\n",
       "  </tbody>\n",
       "</table>\n",
       "<p>5 rows × 22 columns</p>\n",
       "</div>"
      ],
      "text/plain": [
       "      id                        title  \\\n",
       "0    862                    Toy Story   \n",
       "1   8844                      Jumanji   \n",
       "2  15602             Grumpier Old Men   \n",
       "3  31357            Waiting to Exhale   \n",
       "4  11862  Father of the Bride Part II   \n",
       "\n",
       "                                             tagline release_date  \\\n",
       "0                                                NaN   1995-10-30   \n",
       "1          Roll the dice and unleash the excitement!   1995-12-15   \n",
       "2  Still Yelling. Still Fighting. Still Ready for...   1995-12-22   \n",
       "3  Friends are the people who let you be yourself...   1995-12-22   \n",
       "4  Just When His World Is Back To Normal... He's ...   1995-02-10   \n",
       "\n",
       "                     genres           belongs_to_collection original_language  \\\n",
       "0   Animation|Comedy|Family            Toy Story Collection                en   \n",
       "1  Adventure|Fantasy|Family                             NaN                en   \n",
       "2            Romance|Comedy       Grumpy Old Men Collection                en   \n",
       "3      Comedy|Drama|Romance                             NaN                en   \n",
       "4                    Comedy  Father of the Bride Collection                en   \n",
       "\n",
       "   budget_musd  revenue_musd  \\\n",
       "0         30.0    373.554033   \n",
       "1         65.0    262.797249   \n",
       "2          NaN           NaN   \n",
       "3         16.0     81.452156   \n",
       "4          NaN     76.578911   \n",
       "\n",
       "                                production_companies  ... vote_average  \\\n",
       "0                            Pixar Animation Studios  ...          7.7   \n",
       "1  TriStar Pictures|Teitler Film|Interscope Commu...  ...          6.9   \n",
       "2                        Warner Bros.|Lancaster Gate  ...          6.5   \n",
       "3             Twentieth Century Fox Film Corporation  ...          6.1   \n",
       "4          Sandollar Productions|Touchstone Pictures  ...          5.7   \n",
       "\n",
       "   popularity  runtime                                           overview  \\\n",
       "0   21.946943     81.0  Led by Woody, Andy's toys live happily in his ...   \n",
       "1   17.015539    104.0  When siblings Judy and Peter discover an encha...   \n",
       "2   11.712900    101.0  A family wedding reignites the ancient feud be...   \n",
       "3    3.859495    127.0  Cheated on, mistreated and stepped on, the wom...   \n",
       "4    8.387519    106.0  Just when George Banks has recovered from his ...   \n",
       "\n",
       "   spoken_languages                                        poster_path  \\\n",
       "0           English  <img src='http://image.tmdb.org/t/p/w185//uXDf...   \n",
       "1  English|Français  <img src='http://image.tmdb.org/t/p/w185//vgpX...   \n",
       "2           English  <img src='http://image.tmdb.org/t/p/w185//1FSX...   \n",
       "3           English  <img src='http://image.tmdb.org/t/p/w185//4wjG...   \n",
       "4           English  <img src='http://image.tmdb.org/t/p/w185//lf9R...   \n",
       "\n",
       "                                                cast cast_size crew_size  \\\n",
       "0  Tom Hanks|Tim Allen|Don Rickles|Jim Varney|Wal...        13       106   \n",
       "1  Robin Williams|Jonathan Hyde|Kirsten Dunst|Bra...        26        16   \n",
       "2  Walter Matthau|Jack Lemmon|Ann-Margret|Sophia ...         7         4   \n",
       "3  Whitney Houston|Angela Bassett|Loretta Devine|...        10        10   \n",
       "4  Steve Martin|Diane Keaton|Martin Short|Kimberl...        12         7   \n",
       "\n",
       "          director  \n",
       "0    John Lasseter  \n",
       "1     Joe Johnston  \n",
       "2    Howard Deutch  \n",
       "3  Forest Whitaker  \n",
       "4    Charles Shyer  \n",
       "\n",
       "[5 rows x 22 columns]"
      ]
     },
     "execution_count": 31,
     "metadata": {},
     "output_type": "execute_result"
    }
   ],
   "source": [
    "movies.head(5)"
   ]
  },
  {
   "cell_type": "code",
   "execution_count": 32,
   "metadata": {},
   "outputs": [
    {
     "data": {
      "image/png": "[encoded data removed]",
      "text/plain": [
       "<Figure size 2000x1200 with 9 Axes>"
      ]
     },
     "metadata": {},
     "output_type": "display_data"
    }
   ],
   "source": [
    "import matplotlib.pyplot as plt\n",
    "movies.hist(figsize = (20, 12), bins = 100)\n",
    "plt.show()"
   ]
  },
  {
   "cell_type": "code",
   "execution_count": 33,
   "metadata": {
    "scrolled": true
   },
   "outputs": [
    {
     "data": {
      "text/plain": [
       "Index(['id', 'title', 'tagline', 'release_date', 'genres',\n",
       "       'belongs_to_collection', 'original_language', 'budget_musd',\n",
       "       'revenue_musd', 'production_companies', 'production_countries',\n",
       "       'vote_count', 'vote_average', 'popularity', 'runtime', 'overview',\n",
       "       'spoken_languages', 'poster_path', 'cast', 'cast_size', 'crew_size',\n",
       "       'director'],\n",
       "      dtype='object')"
      ]
     },
     "execution_count": 33,
     "metadata": {},
     "output_type": "execute_result"
    }
   ],
   "source": [
    "movies.columns"
   ]
  },
  {
   "cell_type": "markdown",
   "metadata": {},
   "source": [
    "## The best and the worst movies..."
   ]
  },
  {
   "cell_type": "markdown",
   "metadata": {},
   "source": [
    "2. __Filter__ the Dataset and __find the best/worst n Movies__ with the"
   ]
  },
  {
   "cell_type": "markdown",
   "metadata": {},
   "source": [
    "- Highest Revenue\n",
    "- Highest Budget\n",
    "- Highest Profit (=Revenue - Budget)\n",
    "- Lowest Profit (=Revenue - Budget)\n",
    "- Highest Return on Investment (=Revenue / Budget) (only movies with Budget >= 10) \n",
    "- Lowest Return on Investment (=Revenue / Budget) (only movies with Budget >= 10)\n",
    "- Highest number of Votes\n",
    "- Highest Rating (only movies with 10 or more Ratings)\n",
    "- Lowest Rating (only movies with 10 or more Ratings)\n",
    "- Highest Popularity"
   ]
  },
  {
   "cell_type": "code",
   "execution_count": 34,
   "metadata": {},
   "outputs": [
    {
     "name": "stdout",
     "output_type": "stream",
     "text": [
      "                                         poster_path  \\\n",
      "0  <img src='http://image.tmdb.org/t/p/w185//uXDf...   \n",
      "1  <img src='http://image.tmdb.org/t/p/w185//vgpX...   \n",
      "2  <img src='http://image.tmdb.org/t/p/w185//1FSX...   \n",
      "3  <img src='http://image.tmdb.org/t/p/w185//4wjG...   \n",
      "4  <img src='http://image.tmdb.org/t/p/w185//lf9R...   \n",
      "\n",
      "                         title  budget_musd  revenue_musd  vote_count  \\\n",
      "0                    Toy Story         30.0    373.554033      5415.0   \n",
      "1                      Jumanji         65.0    262.797249      2413.0   \n",
      "2             Grumpier Old Men          NaN           NaN        92.0   \n",
      "3            Waiting to Exhale         16.0     81.452156        34.0   \n",
      "4  Father of the Bride Part II          NaN     76.578911       173.0   \n",
      "\n",
      "   vote_average  popularity  \n",
      "0           7.7   21.946943  \n",
      "1           6.9   17.015539  \n",
      "2           6.5   11.712900  \n",
      "3           6.1    3.859495  \n",
      "4           5.7    8.387519  \n"
     ]
    }
   ],
   "source": [
    "# Creating a new DataFrame only with the desirable columns\n",
    "movies_best = movies[['poster_path', 'title', 'budget_musd', 'revenue_musd', 'vote_count', 'vote_average', 'popularity']].copy()\n",
    "print(movies_best.head())"
   ]
  },
  {
   "cell_type": "code",
   "execution_count": 35,
   "metadata": {},
   "outputs": [
    {
     "name": "stdout",
     "output_type": "stream",
     "text": [
      "                                         poster_path  \\\n",
      "0  <img src='http://image.tmdb.org/t/p/w185//uXDf...   \n",
      "1  <img src='http://image.tmdb.org/t/p/w185//vgpX...   \n",
      "2  <img src='http://image.tmdb.org/t/p/w185//1FSX...   \n",
      "3  <img src='http://image.tmdb.org/t/p/w185//4wjG...   \n",
      "4  <img src='http://image.tmdb.org/t/p/w185//lf9R...   \n",
      "\n",
      "                         title  budget_musd  revenue_musd  vote_count  \\\n",
      "0                    Toy Story         30.0    373.554033      5415.0   \n",
      "1                      Jumanji         65.0    262.797249      2413.0   \n",
      "2             Grumpier Old Men          NaN           NaN        92.0   \n",
      "3            Waiting to Exhale         16.0     81.452156        34.0   \n",
      "4  Father of the Bride Part II          NaN     76.578911       173.0   \n",
      "\n",
      "   vote_average  popularity  profit_musd  \n",
      "0           7.7   21.946943   343.554033  \n",
      "1           6.9   17.015539   197.797249  \n",
      "2           6.5   11.712900          NaN  \n",
      "3           6.1    3.859495    65.452156  \n",
      "4           5.7    8.387519          NaN  \n"
     ]
    }
   ],
   "source": [
    "# Creating a new column subtracting the budget from the revenue\n",
    "movies_best['profit_musd'] = movies['revenue_musd']-movies['budget_musd']\n",
    "print(movies_best.head())"
   ]
  },
  {
   "cell_type": "code",
   "execution_count": 36,
   "metadata": {},
   "outputs": [
    {
     "data": {
      "text/plain": [
       "(44691, 8)"
      ]
     },
     "execution_count": 36,
     "metadata": {},
     "output_type": "execute_result"
    }
   ],
   "source": [
    "movies_best.shape"
   ]
  },
  {
   "cell_type": "code",
   "execution_count": 37,
   "metadata": {},
   "outputs": [
    {
     "name": "stdout",
     "output_type": "stream",
     "text": [
      "                                         poster_path  \\\n",
      "0  <img src='http://image.tmdb.org/t/p/w185//uXDf...   \n",
      "1  <img src='http://image.tmdb.org/t/p/w185//vgpX...   \n",
      "2  <img src='http://image.tmdb.org/t/p/w185//1FSX...   \n",
      "3  <img src='http://image.tmdb.org/t/p/w185//4wjG...   \n",
      "4  <img src='http://image.tmdb.org/t/p/w185//lf9R...   \n",
      "\n",
      "                         title  budget_musd  revenue_musd  vote_count  \\\n",
      "0                    Toy Story         30.0    373.554033      5415.0   \n",
      "1                      Jumanji         65.0    262.797249      2413.0   \n",
      "2             Grumpier Old Men          NaN           NaN        92.0   \n",
      "3            Waiting to Exhale         16.0     81.452156        34.0   \n",
      "4  Father of the Bride Part II          NaN     76.578911       173.0   \n",
      "\n",
      "   vote_average  popularity  profit_musd     return  \n",
      "0           7.7   21.946943   343.554033  12.451801  \n",
      "1           6.9   17.015539   197.797249   4.043035  \n",
      "2           6.5   11.712900          NaN        NaN  \n",
      "3           6.1    3.859495    65.452156   5.090760  \n",
      "4           5.7    8.387519          NaN        NaN  \n"
     ]
    }
   ],
   "source": [
    "#Creating a new column \"return on investment(ROI)\" dividing the revenue by the movie budget (also in Millions U$D))  \n",
    "movies_best['return'] = movies['revenue_musd']/movies['budget_musd']\n",
    "print(movies_best.head())"
   ]
  },
  {
   "cell_type": "code",
   "execution_count": 38,
   "metadata": {},
   "outputs": [
    {
     "name": "stdout",
     "output_type": "stream",
     "text": [
      "                                                                                \\\n",
      "Title                                                                            \n",
      "Toy Story                    <img src='http://image.tmdb.org/t/p/w185//uXDf...   \n",
      "Jumanji                      <img src='http://image.tmdb.org/t/p/w185//vgpX...   \n",
      "Grumpier Old Men             <img src='http://image.tmdb.org/t/p/w185//1FSX...   \n",
      "Waiting to Exhale            <img src='http://image.tmdb.org/t/p/w185//4wjG...   \n",
      "Father of the Bride Part II  <img src='http://image.tmdb.org/t/p/w185//lf9R...   \n",
      "\n",
      "                             Budget     Revenue   Votes  Average Rating  \\\n",
      "Title                                                                     \n",
      "Toy Story                      30.0  373.554033  5415.0             7.7   \n",
      "Jumanji                        65.0  262.797249  2413.0             6.9   \n",
      "Grumpier Old Men                NaN         NaN    92.0             6.5   \n",
      "Waiting to Exhale              16.0   81.452156    34.0             6.1   \n",
      "Father of the Bride Part II     NaN   76.578911   173.0             5.7   \n",
      "\n",
      "                             Popularity      Profit        ROI  \n",
      "Title                                                           \n",
      "Toy Story                     21.946943  343.554033  12.451801  \n",
      "Jumanji                       17.015539  197.797249   4.043035  \n",
      "Grumpier Old Men              11.712900         NaN        NaN  \n",
      "Waiting to Exhale              3.859495   65.452156   5.090760  \n",
      "Father of the Bride Part II    8.387519         NaN        NaN  \n"
     ]
    }
   ],
   "source": [
    "# Passing a list to rename the DataFrame's columns;\n",
    "movies_best.columns=[\" \", 'Title', \"Budget\", \"Revenue\", 'Votes', 'Average Rating', 'Popularity', 'Profit', 'ROI']\n",
    "# Setting the movie title as the index of the new DataFrame;\n",
    "movies_best.set_index(\"Title\", inplace=True)\n",
    "print(movies_best.head())"
   ]
  },
  {
   "cell_type": "markdown",
   "metadata": {},
   "source": [
    "__Define__ an appropriate __user-defined function__ to reuse code."
   ]
  },
  {
   "cell_type": "code",
   "execution_count": 62,
   "metadata": {},
   "outputs": [],
   "source": [
    "def highest_lowest_movies(parameter,data,high_low,n):\n",
    "    '''User function for lowest_highest movies based on different parameters'''\n",
    "    if high_low.lower()=='highest':\n",
    "        bools=False\n",
    "    elif high_low.lower()=='lowest':\n",
    "        bools=True\n",
    "    else:\n",
    "        print(\"Please corrcect the spelling error\")\n",
    "        bools=None\n",
    "    try:\n",
    "        if bools==True or bools==False:\n",
    "            \n",
    "            data_set=data.sort_values(by=parameter,ascending=bools).head(n)\n",
    "            return data_set\n",
    "        else:\n",
    "            print('No bools found, please correct the spelling of high_low')\n",
    "    except Exception as e:\n",
    "        print(e)\n",
    "    \n",
    "    "
   ]
  },
  {
   "cell_type": "code",
   "execution_count": null,
   "metadata": {},
   "outputs": [],
   "source": [
    "import difflib\n",
    "\n",
    "def find_closest(word)\n",
    "    possibilities= [\"highest\",\"lowest\"]\n",
    "    matches = difflib.get_close_matches(word,possibilities,n=1,cutoff=0.6)\n",
    "    if matches: \n",
    "        return matches[0]\n",
    "    else:\n",
    "        return None\n",
    "\n",
    "\n",
    "\n",
    "\n",
    "\n",
    "def highest_lowest_movies(parameter,data,high_low,n):\n",
    "    '''User function for lowest_highest movies based on different parameters'''\n",
    "    closest = find_closest(high_low)\n",
    "    print(closest)\n",
    "    if closest=='highest':\n",
    "        bools=False\n",
    "    elif closest=='lowest':\n",
    "        bools=True\n",
    "    try:\n",
    "        if bools==True or bools==False:\n",
    "            \n",
    "            data_set=data.sort_values(by=parameter,ascending=bools).head(n)\n",
    "            return data_set\n",
    "        else:\n",
    "            print('No bools found, please correct the spelling of high_low')\n",
    "    except Exception as e:\n",
    "        print(e)"
   ]
  },
  {
   "cell_type": "markdown",
   "metadata": {},
   "source": [
    "__Movies Top 5 - Highest Revenue__"
   ]
  },
  {
   "cell_type": "code",
   "execution_count": 64,
   "metadata": {},
   "outputs": [
    {
     "data": {
      "text/html": [
       "<div>\n",
       "<style scoped>\n",
       "    .dataframe tbody tr th:only-of-type {\n",
       "        vertical-align: middle;\n",
       "    }\n",
       "\n",
       "    .dataframe tbody tr th {\n",
       "        vertical-align: top;\n",
       "    }\n",
       "\n",
       "    .dataframe thead th {\n",
       "        text-align: right;\n",
       "    }\n",
       "</style>\n",
       "<table border=\"1\" class=\"dataframe\">\n",
       "  <thead>\n",
       "    <tr style=\"text-align: right;\">\n",
       "      <th></th>\n",
       "      <th></th>\n",
       "      <th>Budget</th>\n",
       "      <th>Revenue</th>\n",
       "      <th>Votes</th>\n",
       "      <th>Average Rating</th>\n",
       "      <th>Popularity</th>\n",
       "      <th>Profit</th>\n",
       "      <th>ROI</th>\n",
       "    </tr>\n",
       "    <tr>\n",
       "      <th>Title</th>\n",
       "      <th></th>\n",
       "      <th></th>\n",
       "      <th></th>\n",
       "      <th></th>\n",
       "      <th></th>\n",
       "      <th></th>\n",
       "      <th></th>\n",
       "      <th></th>\n",
       "    </tr>\n",
       "  </thead>\n",
       "  <tbody>\n",
       "    <tr>\n",
       "      <th>Avatar</th>\n",
       "      <td>&lt;img src='http://image.tmdb.org/t/p/w185//btnl...</td>\n",
       "      <td>237.0</td>\n",
       "      <td>2787.965087</td>\n",
       "      <td>12114.0</td>\n",
       "      <td>7.2</td>\n",
       "      <td>185.070892</td>\n",
       "      <td>2550.965087</td>\n",
       "      <td>11.763566</td>\n",
       "    </tr>\n",
       "    <tr>\n",
       "      <th>Star Wars: The Force Awakens</th>\n",
       "      <td>&lt;img src='http://image.tmdb.org/t/p/w185//9rd0...</td>\n",
       "      <td>245.0</td>\n",
       "      <td>2068.223624</td>\n",
       "      <td>7993.0</td>\n",
       "      <td>7.5</td>\n",
       "      <td>31.626013</td>\n",
       "      <td>1823.223624</td>\n",
       "      <td>8.441729</td>\n",
       "    </tr>\n",
       "    <tr>\n",
       "      <th>Titanic</th>\n",
       "      <td>&lt;img src='http://image.tmdb.org/t/p/w185//9xjZ...</td>\n",
       "      <td>200.0</td>\n",
       "      <td>1845.034188</td>\n",
       "      <td>7770.0</td>\n",
       "      <td>7.5</td>\n",
       "      <td>26.889070</td>\n",
       "      <td>1645.034188</td>\n",
       "      <td>9.225171</td>\n",
       "    </tr>\n",
       "    <tr>\n",
       "      <th>The Avengers</th>\n",
       "      <td>&lt;img src='http://image.tmdb.org/t/p/w185//RYMX...</td>\n",
       "      <td>220.0</td>\n",
       "      <td>1519.557910</td>\n",
       "      <td>12000.0</td>\n",
       "      <td>7.4</td>\n",
       "      <td>89.887648</td>\n",
       "      <td>1299.557910</td>\n",
       "      <td>6.907081</td>\n",
       "    </tr>\n",
       "    <tr>\n",
       "      <th>Jurassic World</th>\n",
       "      <td>&lt;img src='http://image.tmdb.org/t/p/w185//rhr4...</td>\n",
       "      <td>150.0</td>\n",
       "      <td>1513.528810</td>\n",
       "      <td>8842.0</td>\n",
       "      <td>6.5</td>\n",
       "      <td>32.790475</td>\n",
       "      <td>1363.528810</td>\n",
       "      <td>10.090192</td>\n",
       "    </tr>\n",
       "  </tbody>\n",
       "</table>\n",
       "</div>"
      ],
      "text/plain": [
       "                                                                                 \\\n",
       "Title                                                                             \n",
       "Avatar                        <img src='http://image.tmdb.org/t/p/w185//btnl...   \n",
       "Star Wars: The Force Awakens  <img src='http://image.tmdb.org/t/p/w185//9rd0...   \n",
       "Titanic                       <img src='http://image.tmdb.org/t/p/w185//9xjZ...   \n",
       "The Avengers                  <img src='http://image.tmdb.org/t/p/w185//RYMX...   \n",
       "Jurassic World                <img src='http://image.tmdb.org/t/p/w185//rhr4...   \n",
       "\n",
       "                              Budget      Revenue    Votes  Average Rating  \\\n",
       "Title                                                                        \n",
       "Avatar                         237.0  2787.965087  12114.0             7.2   \n",
       "Star Wars: The Force Awakens   245.0  2068.223624   7993.0             7.5   \n",
       "Titanic                        200.0  1845.034188   7770.0             7.5   \n",
       "The Avengers                   220.0  1519.557910  12000.0             7.4   \n",
       "Jurassic World                 150.0  1513.528810   8842.0             6.5   \n",
       "\n",
       "                              Popularity       Profit        ROI  \n",
       "Title                                                             \n",
       "Avatar                        185.070892  2550.965087  11.763566  \n",
       "Star Wars: The Force Awakens   31.626013  1823.223624   8.441729  \n",
       "Titanic                        26.889070  1645.034188   9.225171  \n",
       "The Avengers                   89.887648  1299.557910   6.907081  \n",
       "Jurassic World                 32.790475  1363.528810  10.090192  "
      ]
     },
     "execution_count": 64,
     "metadata": {},
     "output_type": "execute_result"
    }
   ],
   "source": [
    "highest_lowest_movies('Revenue',movies_best,'Highest',5)"
   ]
  },
  {
   "cell_type": "markdown",
   "metadata": {},
   "source": [
    "__Movies Top 5 - Highest Budget__"
   ]
  },
  {
   "cell_type": "code",
   "execution_count": 65,
   "metadata": {},
   "outputs": [
    {
     "data": {
      "text/html": [
       "<div>\n",
       "<style scoped>\n",
       "    .dataframe tbody tr th:only-of-type {\n",
       "        vertical-align: middle;\n",
       "    }\n",
       "\n",
       "    .dataframe tbody tr th {\n",
       "        vertical-align: top;\n",
       "    }\n",
       "\n",
       "    .dataframe thead th {\n",
       "        text-align: right;\n",
       "    }\n",
       "</style>\n",
       "<table border=\"1\" class=\"dataframe\">\n",
       "  <thead>\n",
       "    <tr style=\"text-align: right;\">\n",
       "      <th></th>\n",
       "      <th></th>\n",
       "      <th>Budget</th>\n",
       "      <th>Revenue</th>\n",
       "      <th>Votes</th>\n",
       "      <th>Average Rating</th>\n",
       "      <th>Popularity</th>\n",
       "      <th>Profit</th>\n",
       "      <th>ROI</th>\n",
       "    </tr>\n",
       "    <tr>\n",
       "      <th>Title</th>\n",
       "      <th></th>\n",
       "      <th></th>\n",
       "      <th></th>\n",
       "      <th></th>\n",
       "      <th></th>\n",
       "      <th></th>\n",
       "      <th></th>\n",
       "      <th></th>\n",
       "    </tr>\n",
       "  </thead>\n",
       "  <tbody>\n",
       "    <tr>\n",
       "      <th>Pirates of the Caribbean: On Stranger Tides</th>\n",
       "      <td>&lt;img src='http://image.tmdb.org/t/p/w185//keGf...</td>\n",
       "      <td>380.0</td>\n",
       "      <td>1045.713802</td>\n",
       "      <td>5068.0</td>\n",
       "      <td>6.4</td>\n",
       "      <td>27.887720</td>\n",
       "      <td>665.713802</td>\n",
       "      <td>2.751878</td>\n",
       "    </tr>\n",
       "    <tr>\n",
       "      <th>Pirates of the Caribbean: At World's End</th>\n",
       "      <td>&lt;img src='http://image.tmdb.org/t/p/w185//oVh3...</td>\n",
       "      <td>300.0</td>\n",
       "      <td>961.000000</td>\n",
       "      <td>4627.0</td>\n",
       "      <td>6.9</td>\n",
       "      <td>31.363664</td>\n",
       "      <td>661.000000</td>\n",
       "      <td>3.203333</td>\n",
       "    </tr>\n",
       "    <tr>\n",
       "      <th>Avengers: Age of Ultron</th>\n",
       "      <td>&lt;img src='http://image.tmdb.org/t/p/w185//4ssD...</td>\n",
       "      <td>280.0</td>\n",
       "      <td>1405.403694</td>\n",
       "      <td>6908.0</td>\n",
       "      <td>7.3</td>\n",
       "      <td>37.379420</td>\n",
       "      <td>1125.403694</td>\n",
       "      <td>5.019299</td>\n",
       "    </tr>\n",
       "    <tr>\n",
       "      <th>Superman Returns</th>\n",
       "      <td>&lt;img src='http://image.tmdb.org/t/p/w185//6ZYO...</td>\n",
       "      <td>270.0</td>\n",
       "      <td>391.081192</td>\n",
       "      <td>1429.0</td>\n",
       "      <td>5.4</td>\n",
       "      <td>13.284712</td>\n",
       "      <td>121.081192</td>\n",
       "      <td>1.448449</td>\n",
       "    </tr>\n",
       "    <tr>\n",
       "      <th>John Carter</th>\n",
       "      <td>&lt;img src='http://image.tmdb.org/t/p/w185//7GSS...</td>\n",
       "      <td>260.0</td>\n",
       "      <td>284.139100</td>\n",
       "      <td>2170.0</td>\n",
       "      <td>6.1</td>\n",
       "      <td>14.670353</td>\n",
       "      <td>24.139100</td>\n",
       "      <td>1.092843</td>\n",
       "    </tr>\n",
       "  </tbody>\n",
       "</table>\n",
       "</div>"
      ],
      "text/plain": [
       "                                                                                                \\\n",
       "Title                                                                                            \n",
       "Pirates of the Caribbean: On Stranger Tides  <img src='http://image.tmdb.org/t/p/w185//keGf...   \n",
       "Pirates of the Caribbean: At World's End     <img src='http://image.tmdb.org/t/p/w185//oVh3...   \n",
       "Avengers: Age of Ultron                      <img src='http://image.tmdb.org/t/p/w185//4ssD...   \n",
       "Superman Returns                             <img src='http://image.tmdb.org/t/p/w185//6ZYO...   \n",
       "John Carter                                  <img src='http://image.tmdb.org/t/p/w185//7GSS...   \n",
       "\n",
       "                                             Budget      Revenue   Votes  \\\n",
       "Title                                                                      \n",
       "Pirates of the Caribbean: On Stranger Tides   380.0  1045.713802  5068.0   \n",
       "Pirates of the Caribbean: At World's End      300.0   961.000000  4627.0   \n",
       "Avengers: Age of Ultron                       280.0  1405.403694  6908.0   \n",
       "Superman Returns                              270.0   391.081192  1429.0   \n",
       "John Carter                                   260.0   284.139100  2170.0   \n",
       "\n",
       "                                             Average Rating  Popularity  \\\n",
       "Title                                                                     \n",
       "Pirates of the Caribbean: On Stranger Tides             6.4   27.887720   \n",
       "Pirates of the Caribbean: At World's End                6.9   31.363664   \n",
       "Avengers: Age of Ultron                                 7.3   37.379420   \n",
       "Superman Returns                                        5.4   13.284712   \n",
       "John Carter                                             6.1   14.670353   \n",
       "\n",
       "                                                  Profit       ROI  \n",
       "Title                                                               \n",
       "Pirates of the Caribbean: On Stranger Tides   665.713802  2.751878  \n",
       "Pirates of the Caribbean: At World's End      661.000000  3.203333  \n",
       "Avengers: Age of Ultron                      1125.403694  5.019299  \n",
       "Superman Returns                              121.081192  1.448449  \n",
       "John Carter                                    24.139100  1.092843  "
      ]
     },
     "execution_count": 65,
     "metadata": {},
     "output_type": "execute_result"
    }
   ],
   "source": [
    "highest_lowest_movies('Budget',movies_best,'Highest',5)"
   ]
  },
  {
   "cell_type": "code",
   "execution_count": 66,
   "metadata": {},
   "outputs": [
    {
     "data": {
      "text/plain": [
       "Index([' ', 'Budget', 'Revenue', 'Votes', 'Average Rating', 'Popularity',\n",
       "       'Profit', 'ROI'],\n",
       "      dtype='object')"
      ]
     },
     "execution_count": 66,
     "metadata": {},
     "output_type": "execute_result"
    }
   ],
   "source": [
    "movies_best.columns"
   ]
  },
  {
   "cell_type": "markdown",
   "metadata": {},
   "source": [
    "__Movies Top 5 - Highest Profit__"
   ]
  },
  {
   "cell_type": "code",
   "execution_count": 67,
   "metadata": {},
   "outputs": [
    {
     "data": {
      "text/html": [
       "<div>\n",
       "<style scoped>\n",
       "    .dataframe tbody tr th:only-of-type {\n",
       "        vertical-align: middle;\n",
       "    }\n",
       "\n",
       "    .dataframe tbody tr th {\n",
       "        vertical-align: top;\n",
       "    }\n",
       "\n",
       "    .dataframe thead th {\n",
       "        text-align: right;\n",
       "    }\n",
       "</style>\n",
       "<table border=\"1\" class=\"dataframe\">\n",
       "  <thead>\n",
       "    <tr style=\"text-align: right;\">\n",
       "      <th></th>\n",
       "      <th></th>\n",
       "      <th>Budget</th>\n",
       "      <th>Revenue</th>\n",
       "      <th>Votes</th>\n",
       "      <th>Average Rating</th>\n",
       "      <th>Popularity</th>\n",
       "      <th>Profit</th>\n",
       "      <th>ROI</th>\n",
       "    </tr>\n",
       "    <tr>\n",
       "      <th>Title</th>\n",
       "      <th></th>\n",
       "      <th></th>\n",
       "      <th></th>\n",
       "      <th></th>\n",
       "      <th></th>\n",
       "      <th></th>\n",
       "      <th></th>\n",
       "      <th></th>\n",
       "    </tr>\n",
       "  </thead>\n",
       "  <tbody>\n",
       "    <tr>\n",
       "      <th>Avatar</th>\n",
       "      <td>&lt;img src='http://image.tmdb.org/t/p/w185//btnl...</td>\n",
       "      <td>237.0</td>\n",
       "      <td>2787.965087</td>\n",
       "      <td>12114.0</td>\n",
       "      <td>7.2</td>\n",
       "      <td>185.070892</td>\n",
       "      <td>2550.965087</td>\n",
       "      <td>11.763566</td>\n",
       "    </tr>\n",
       "    <tr>\n",
       "      <th>Star Wars: The Force Awakens</th>\n",
       "      <td>&lt;img src='http://image.tmdb.org/t/p/w185//9rd0...</td>\n",
       "      <td>245.0</td>\n",
       "      <td>2068.223624</td>\n",
       "      <td>7993.0</td>\n",
       "      <td>7.5</td>\n",
       "      <td>31.626013</td>\n",
       "      <td>1823.223624</td>\n",
       "      <td>8.441729</td>\n",
       "    </tr>\n",
       "    <tr>\n",
       "      <th>Titanic</th>\n",
       "      <td>&lt;img src='http://image.tmdb.org/t/p/w185//9xjZ...</td>\n",
       "      <td>200.0</td>\n",
       "      <td>1845.034188</td>\n",
       "      <td>7770.0</td>\n",
       "      <td>7.5</td>\n",
       "      <td>26.889070</td>\n",
       "      <td>1645.034188</td>\n",
       "      <td>9.225171</td>\n",
       "    </tr>\n",
       "    <tr>\n",
       "      <th>Jurassic World</th>\n",
       "      <td>&lt;img src='http://image.tmdb.org/t/p/w185//rhr4...</td>\n",
       "      <td>150.0</td>\n",
       "      <td>1513.528810</td>\n",
       "      <td>8842.0</td>\n",
       "      <td>6.5</td>\n",
       "      <td>32.790475</td>\n",
       "      <td>1363.528810</td>\n",
       "      <td>10.090192</td>\n",
       "    </tr>\n",
       "    <tr>\n",
       "      <th>Furious 7</th>\n",
       "      <td>&lt;img src='http://image.tmdb.org/t/p/w185//d9jZ...</td>\n",
       "      <td>190.0</td>\n",
       "      <td>1506.249360</td>\n",
       "      <td>4253.0</td>\n",
       "      <td>7.3</td>\n",
       "      <td>27.275687</td>\n",
       "      <td>1316.249360</td>\n",
       "      <td>7.927628</td>\n",
       "    </tr>\n",
       "  </tbody>\n",
       "</table>\n",
       "</div>"
      ],
      "text/plain": [
       "                                                                                 \\\n",
       "Title                                                                             \n",
       "Avatar                        <img src='http://image.tmdb.org/t/p/w185//btnl...   \n",
       "Star Wars: The Force Awakens  <img src='http://image.tmdb.org/t/p/w185//9rd0...   \n",
       "Titanic                       <img src='http://image.tmdb.org/t/p/w185//9xjZ...   \n",
       "Jurassic World                <img src='http://image.tmdb.org/t/p/w185//rhr4...   \n",
       "Furious 7                     <img src='http://image.tmdb.org/t/p/w185//d9jZ...   \n",
       "\n",
       "                              Budget      Revenue    Votes  Average Rating  \\\n",
       "Title                                                                        \n",
       "Avatar                         237.0  2787.965087  12114.0             7.2   \n",
       "Star Wars: The Force Awakens   245.0  2068.223624   7993.0             7.5   \n",
       "Titanic                        200.0  1845.034188   7770.0             7.5   \n",
       "Jurassic World                 150.0  1513.528810   8842.0             6.5   \n",
       "Furious 7                      190.0  1506.249360   4253.0             7.3   \n",
       "\n",
       "                              Popularity       Profit        ROI  \n",
       "Title                                                             \n",
       "Avatar                        185.070892  2550.965087  11.763566  \n",
       "Star Wars: The Force Awakens   31.626013  1823.223624   8.441729  \n",
       "Titanic                        26.889070  1645.034188   9.225171  \n",
       "Jurassic World                 32.790475  1363.528810  10.090192  \n",
       "Furious 7                      27.275687  1316.249360   7.927628  "
      ]
     },
     "execution_count": 67,
     "metadata": {},
     "output_type": "execute_result"
    }
   ],
   "source": [
    "highest_lowest_movies('Profit',movies_best,'Highest',5)"
   ]
  },
  {
   "cell_type": "markdown",
   "metadata": {},
   "source": [
    "__Movies Top 5 - Lowest Profit__"
   ]
  },
  {
   "cell_type": "code",
   "execution_count": null,
   "metadata": {
    "scrolled": false
   },
   "outputs": [],
   "source": []
  },
  {
   "cell_type": "markdown",
   "metadata": {},
   "source": [
    "__Movies Top 5 - Highest ROI__"
   ]
  },
  {
   "cell_type": "code",
   "execution_count": null,
   "metadata": {
    "scrolled": false
   },
   "outputs": [],
   "source": []
  },
  {
   "cell_type": "markdown",
   "metadata": {},
   "source": [
    "__Movies Top 5 - Lowest ROI__"
   ]
  },
  {
   "cell_type": "code",
   "execution_count": null,
   "metadata": {},
   "outputs": [],
   "source": []
  },
  {
   "cell_type": "markdown",
   "metadata": {},
   "source": [
    "__Movies Top 5 - Most Votes__"
   ]
  },
  {
   "cell_type": "code",
   "execution_count": null,
   "metadata": {},
   "outputs": [],
   "source": []
  },
  {
   "cell_type": "markdown",
   "metadata": {},
   "source": [
    "__Movies Top 5 - Highest Rating__"
   ]
  },
  {
   "cell_type": "code",
   "execution_count": null,
   "metadata": {},
   "outputs": [],
   "source": []
  },
  {
   "cell_type": "markdown",
   "metadata": {},
   "source": [
    "__Movies Top 5 - Lowest Rating__"
   ]
  },
  {
   "cell_type": "code",
   "execution_count": null,
   "metadata": {},
   "outputs": [],
   "source": []
  },
  {
   "cell_type": "markdown",
   "metadata": {},
   "source": [
    "__Movies Top 5 - Most Popular__"
   ]
  },
  {
   "cell_type": "code",
   "execution_count": null,
   "metadata": {},
   "outputs": [],
   "source": []
  },
  {
   "cell_type": "markdown",
   "metadata": {},
   "source": [
    "## Find your next Movie"
   ]
  },
  {
   "cell_type": "markdown",
   "metadata": {},
   "source": [
    "3. __Filter__ the Dataset for movies that meet the following conditions:"
   ]
  },
  {
   "cell_type": "markdown",
   "metadata": {},
   "source": [
    "__Search 1: Science Fiction Action Movie with Bruce Willis (sorted from high to low Rating)__"
   ]
  },
  {
   "cell_type": "markdown",
   "metadata": {},
   "source": [
    "__Search 2: Movies with Uma Thurman and directed by Quentin Tarantino (sorted from short to long runtime)__"
   ]
  },
  {
   "cell_type": "markdown",
   "metadata": {},
   "source": [
    "__Search 3: Most Successful Pixar Studio Movies between 2010 and 2015 (sorted from high to low Revenue)__"
   ]
  },
  {
   "cell_type": "markdown",
   "metadata": {},
   "source": [
    "__Search 4: Action or Thriller Movie with original language English and minimum Rating of 7.5 (most recent movies first)__"
   ]
  },
  {
   "cell_type": "code",
   "execution_count": null,
   "metadata": {},
   "outputs": [],
   "source": []
  },
  {
   "cell_type": "markdown",
   "metadata": {},
   "source": [
    "## Are Franchises more successful?"
   ]
  },
  {
   "cell_type": "markdown",
   "metadata": {},
   "source": [
    "4. __Analyze__ the Dataset and __find out whether Franchises (Movies that belong to a collection) are more successful than stand-alone movies__ in terms of:"
   ]
  },
  {
   "cell_type": "markdown",
   "metadata": {},
   "source": [
    "- mean revenue\n",
    "- median Return on Investment\n",
    "- mean budget raised\n",
    "- mean popularity\n",
    "- mean rating"
   ]
  },
  {
   "cell_type": "markdown",
   "metadata": {},
   "source": [
    "hint: use groupby()"
   ]
  },
  {
   "cell_type": "markdown",
   "metadata": {},
   "source": [
    "__Franchise vs. Stand-alone: Average Revenue__"
   ]
  },
  {
   "cell_type": "code",
   "execution_count": null,
   "metadata": {},
   "outputs": [],
   "source": []
  },
  {
   "cell_type": "markdown",
   "metadata": {},
   "source": [
    "__Franchise vs. Stand-alone: Return on Investment / Profitability (median)__"
   ]
  },
  {
   "cell_type": "code",
   "execution_count": null,
   "metadata": {},
   "outputs": [],
   "source": []
  },
  {
   "cell_type": "markdown",
   "metadata": {},
   "source": [
    "__Franchise vs. Stand-alone: Average Budget__"
   ]
  },
  {
   "cell_type": "code",
   "execution_count": null,
   "metadata": {},
   "outputs": [],
   "source": []
  },
  {
   "cell_type": "markdown",
   "metadata": {},
   "source": [
    "__Franchise vs. Stand-alone: Average Popularity__"
   ]
  },
  {
   "cell_type": "code",
   "execution_count": null,
   "metadata": {},
   "outputs": [],
   "source": []
  },
  {
   "cell_type": "markdown",
   "metadata": {},
   "source": [
    "__Franchise vs. Stand-alone: Average Rating__"
   ]
  },
  {
   "cell_type": "code",
   "execution_count": null,
   "metadata": {},
   "outputs": [],
   "source": []
  },
  {
   "cell_type": "markdown",
   "metadata": {},
   "source": [
    "## Most Successful Franchises"
   ]
  },
  {
   "cell_type": "markdown",
   "metadata": {},
   "source": [
    "5. __Find__ the __most successful Franchises__ in terms of"
   ]
  },
  {
   "cell_type": "markdown",
   "metadata": {},
   "source": [
    "- __total number of movies__\n",
    "- __total & mean budget__\n",
    "- __total & mean revenue__\n",
    "- __mean rating__"
   ]
  },
  {
   "cell_type": "code",
   "execution_count": null,
   "metadata": {},
   "outputs": [],
   "source": []
  },
  {
   "cell_type": "markdown",
   "metadata": {},
   "source": [
    "## Most Successful Directors"
   ]
  },
  {
   "cell_type": "markdown",
   "metadata": {},
   "source": [
    "6. __Find__ the __most successful Directors__ in terms of"
   ]
  },
  {
   "cell_type": "markdown",
   "metadata": {},
   "source": [
    "- __total number of movies__\n",
    "- __total revenue__\n",
    "- __mean rating__"
   ]
  },
  {
   "cell_type": "code",
   "execution_count": null,
   "metadata": {},
   "outputs": [],
   "source": []
  }
 ],
 "metadata": {
  "kernelspec": {
   "display_name": "Python 3 (ipykernel)",
   "language": "python",
   "name": "python3"
  },
  "language_info": {
   "codemirror_mode": {
    "name": "ipython",
    "version": 3
   },
   "file_extension": ".py",
   "mimetype": "text/x-python",
   "name": "python",
   "nbconvert_exporter": "python",
   "pygments_lexer": "ipython3",
   "version": "3.10.4"
  }
 },
 "nbformat": 4,
 "nbformat_minor": 2
}
