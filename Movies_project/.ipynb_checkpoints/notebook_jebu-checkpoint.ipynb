{
 "cells": [
  {
   "cell_type": "markdown",
   "id": "32ec92a0-c21a-45b8-ac63-9f9c698a1291",
   "metadata": {},
   "source": [
    "# What's in an Avocado Toast: A Supply Chain Analysis\n",
    "\n",
    "You're in London, making an avocado toast, a quick-to-make dish that has soared in popularity on breakfast menus since the 2010s. A simple smashed avocado toast can be made with five ingredients: one ripe avocado, half a lemon, a big pinch of salt flakes, two slices of sourdough bread and a good drizzle of extra virgin olive oil.\n",
    "\n",
    "It's no small feat that most of these ingredients are readily available in grocery stores. In this project, you'll conduct a supply chain analysis of the ingredients used in an avocado toast, utilizing the [Open Food Facts database](https://world.openfoodfacts.org/). This database contains extensive, openly-sourced information on various foods, including their origins. Through this analysis, you will gain an in-depth understanding of the complex supply chain involved in producing a single dish. The data is contained in `.csv` files in the `data/` folder provided.\n",
    "\n",
    "After completing this project, you'll be armed with a list of ingredients and their countries of origin, and be well-positioned to launch into other analyses that explore how long, on average, these ingredients spend at sea.\n",
    "\n",
    "![](avocado_wallpaper.jpeg)"
   ]
  },
  {
   "cell_type": "code",
   "execution_count": null,
   "id": "339a6352-aed5-4b9e-a48f-1b91a7db9adb",
   "metadata": {
    "executionTime": 8,
    "lastSuccessfullyExecutedCode": "import pandas as pd"
   },
   "outputs": [],
   "source": []
  },
  {
   "cell_type": "markdown",
   "id": "c0a65894",
   "metadata": {},
   "source": [
    "Instructions\n",
    "All required data is provided in the data/ folder. Start by loading the data about avocados as avocado. The data is tab-delimited. Subset the data to contain only the columns: [ 'code', 'lc', 'product_name_en', 'quantity', 'serving_size', 'packaging_tags', 'brands', 'brands_tags', 'categories_tags', 'labels_tags', 'countries', countries_tags', 'origins','origins_tags']\n",
    "\n",
    "Filter the DataFrame based on the column categories_tags, to return only rows where categories_tags contains any of the following: ['en:avocadoes', 'en:avocados', 'en:fresh-foods', 'en:fresh-vegetables', 'en:fruchte', 'en:fruits', 'en:raw-green-avocados', 'en:tropical-fruits', 'en:tropische-fruchte', 'en:vegetables-based-foods','fr:hass-avocados'].\n",
    "Start by dropping rows with null values in categories_tags, and then splitting this column of comma-separated values into a column of lists. Save this as a new list, categories_list.\n",
    "\n",
    "You can compare the list in each row of categories_list with the reference list, categories_tags. \n",
    "One way to do this is to call apply(lambda x: any(___)) on your new column of lists, where any() contains a list comprehension and evaluates to true if any item in the list is True.\n",
    "\n",
    "Your avocado DataFrame should contain a column called origins_tags, containing origin countries. Create a variable called avocado_origin, containing the top country where avocados in the United Kingdom come from. Begin by using the countries column to filter for only products recorded in the United Kingdom.\n",
    "\n",
    "\n",
    "Repeat the steps above for the rest of the ingredients. To make this replicable, you can create a function called read_and_filter_data() which takes two arguments, filepath and relevant_categories, and returns a filtered DataFrame containing only rows where categories_tags are in a list called relevant_categories. The function also prints the number of rows per origin, which you'll use to identify the most likely country of origin.\n",
    "\n",
    "Apply your user-defined function to filter the data in lemon.csv, where relevant categories are ['en:aromatic-plants', 'en:citron', 'en:citrus', 'en:fresh-fruits', 'en:fresh-lemons', 'en:fruits', 'en:lemons', 'en:unwaxed-lemons'], saving the result to a varaible called lemon. Create a variable called lemon_origin, containing the top country where lemons in the United Kingdom originate from.\n",
    "\n",
    "Just as you did with the lemon data, create the variables olive_oil_origin and sourdough_origin, respectively. Relevant categories can be found in the files relevant_olive_oil_categories.txt and relevant_sourdough_categories.txt, since these lists are slightly longer than the ones you've been working with. For salts, use the categories ['en:edible-common-salt', 'en:salts', 'en:sea-salts']. You'll find that we don't have any data on the origin of salt flakes: this is common with supply chain datasets, which are often incomplete. A great jumping off point for your next analysis!\n"
   ]
  },
  {
   "cell_type": "code",
   "execution_count": 1,
   "id": "293aff3c",
   "metadata": {},
   "outputs": [],
   "source": [
    "import pandas as pd"
   ]
  },
  {
   "cell_type": "code",
   "execution_count": 2,
   "id": "d1be6570",
   "metadata": {},
   "outputs": [
    {
     "name": "stdout",
     "output_type": "stream",
     "text": [
      "            code  lc product_name_de product_name_el  \\\n",
      "0  0059749979702  fr             NaN             NaN   \n",
      "1  7610095131409  en             NaN             NaN   \n",
      "2  4005514005578  en             NaN             NaN   \n",
      "3  0879890002513  en             NaN             NaN   \n",
      "4  0223086613685  en             NaN             NaN   \n",
      "\n",
      "                     product_name_en product_name_es product_name_fi  \\\n",
      "0                                NaN             NaN             NaN   \n",
      "1                                NaN             NaN             NaN   \n",
      "2  Gelbe Linse Avocado Brotaufstrich             NaN             NaN   \n",
      "3           Avocado toast chili lime             NaN             NaN   \n",
      "4                            Avocado             NaN             NaN   \n",
      "\n",
      "         product_name_fr product_name_id product_name_it  ...  \\\n",
      "0  Naturalia Avocado Oil             NaN             NaN  ...   \n",
      "1     Avocado Bowl chips             NaN             NaN  ...   \n",
      "2                    NaN             NaN             NaN  ...   \n",
      "3                    NaN             NaN             NaN  ...   \n",
      "4                    NaN             NaN             NaN  ...   \n",
      "\n",
      "  off:ecoscore_data.adjustments.packaging.non_recyclable_and_non_biodegradable_materials  \\\n",
      "0                                                1.0                                       \n",
      "1                                                1.0                                       \n",
      "2                                                1.0                                       \n",
      "3                                                1.0                                       \n",
      "4                                                1.0                                       \n",
      "\n",
      "  off:ecoscore_data.adjustments.production_system.value  \\\n",
      "0                                                0.0      \n",
      "1                                                0.0      \n",
      "2                                               15.0      \n",
      "3                                                0.0      \n",
      "4                                                0.0      \n",
      "\n",
      "  off:ecoscore_data.adjustments.threatened_species.value  \\\n",
      "0                                                NaN       \n",
      "1                                                NaN       \n",
      "2                                                NaN       \n",
      "3                                                NaN       \n",
      "4                                                NaN       \n",
      "\n",
      "  sources_fields:org-database-usda:available_date  \\\n",
      "0                                             NaN   \n",
      "1                                             NaN   \n",
      "2                                             NaN   \n",
      "3                                             NaN   \n",
      "4                                             NaN   \n",
      "\n",
      "  sources_fields:org-database-usda:fdc_category  \\\n",
      "0                                           NaN   \n",
      "1                                           NaN   \n",
      "2                                           NaN   \n",
      "3                                           NaN   \n",
      "4                                           NaN   \n",
      "\n",
      "  sources_fields:org-database-usda:fdc_data_source  \\\n",
      "0                                              NaN   \n",
      "1                                              NaN   \n",
      "2                                              NaN   \n",
      "3                                              NaN   \n",
      "4                                              NaN   \n",
      "\n",
      "  sources_fields:org-database-usda:fdc_id  \\\n",
      "0                                     NaN   \n",
      "1                                     NaN   \n",
      "2                                     NaN   \n",
      "3                                     NaN   \n",
      "4                                     NaN   \n",
      "\n",
      "  sources_fields:org-database-usda:modified_date  \\\n",
      "0                                            NaN   \n",
      "1                                            NaN   \n",
      "2                                            NaN   \n",
      "3                                            NaN   \n",
      "4                                            NaN   \n",
      "\n",
      "  sources_fields:org-database-usda:publication_date  \\\n",
      "0                                               NaN   \n",
      "1                                               NaN   \n",
      "2                                               NaN   \n",
      "3                                               NaN   \n",
      "4                                               NaN   \n",
      "\n",
      "                                      data_sources  \n",
      "0                                 App - yuka, Apps  \n",
      "1  App - Yuka, Apps, Producers, Producer - zweifel  \n",
      "2   App - yuka, Apps, App - smoothie-openfoodfacts  \n",
      "3                   App - Yuka, Apps, App - InFood  \n",
      "4                                 App - Yuka, Apps  \n",
      "\n",
      "[5 rows x 184 columns]\n"
     ]
    }
   ],
   "source": [
    "avocado=pd.read_csv('avocado.csv',sep='\\t')\n",
    "print(avocado.head(5))"
   ]
  },
  {
   "cell_type": "code",
   "execution_count": 3,
   "id": "aa31a8b7",
   "metadata": {},
   "outputs": [
    {
     "name": "stdout",
     "output_type": "stream",
     "text": [
      "<class 'pandas.core.frame.DataFrame'>\n",
      "RangeIndex: 1785 entries, 0 to 1784\n",
      "Columns: 184 entries, code to data_sources\n",
      "dtypes: float64(58), int64(1), object(125)\n",
      "memory usage: 2.5+ MB\n"
     ]
    }
   ],
   "source": [
    "avocado.info()"
   ]
  },
  {
   "cell_type": "code",
   "execution_count": 4,
   "id": "47bb54b9",
   "metadata": {},
   "outputs": [
    {
     "name": "stdout",
     "output_type": "stream",
     "text": [
      "            code  lc                    product_name_en quantity serving_size  \\\n",
      "0  0059749979702  fr                                NaN      NaN          NaN   \n",
      "1  7610095131409  en                                NaN      NaN          NaN   \n",
      "2  4005514005578  en  Gelbe Linse Avocado Brotaufstrich      NaN          NaN   \n",
      "3  0879890002513  en           Avocado toast chili lime      NaN          NaN   \n",
      "4  0223086613685  en                            Avocado      NaN          NaN   \n",
      "\n",
      "  packaging_tags     brands brands_tags  \\\n",
      "0            NaN  Naturalia   naturalia   \n",
      "1            NaN    Zweifel     zweifel   \n",
      "2            NaN     Tartex      tartex   \n",
      "3            NaN        NaN         NaN   \n",
      "4            NaN        NaN         NaN   \n",
      "\n",
      "                                     categories_tags  \\\n",
      "0  en:plant-based-foods-and-beverages,en:plant-ba...   \n",
      "1  en:snacks,en:salty-snacks,en:appetizers,en:chi...   \n",
      "2                              de:abendbrotsufstrich   \n",
      "3                                                NaN   \n",
      "4                                                NaN   \n",
      "\n",
      "                                     labels_tags           countries  \\\n",
      "0                                            NaN              Canada   \n",
      "1                         en:vegetarian,en:vegan  Switzerland, World   \n",
      "2  en:organic,en:eu-organic,en:eg-oko-verordnung             Germany   \n",
      "3                                            NaN       United States   \n",
      "4                                            NaN       United States   \n",
      "\n",
      "            countries_tags origins origins_tags  \n",
      "0                en:canada     NaN          NaN  \n",
      "1  en:switzerland,en:world     NaN          NaN  \n",
      "2               en:germany     NaN          NaN  \n",
      "3         en:united-states     NaN          NaN  \n",
      "4         en:united-states     NaN          NaN  \n"
     ]
    }
   ],
   "source": [
    "new_columns= [ 'code', 'lc', 'product_name_en', 'quantity', 'serving_size', 'packaging_tags', 'brands', 'brands_tags', 'categories_tags', 'labels_tags', 'countries', 'countries_tags', 'origins','origins_tags']\n",
    "avocado=avocado[new_columns]\n",
    "print(avocado.head())"
   ]
  },
  {
   "cell_type": "code",
   "execution_count": null,
   "id": "d183ddf1",
   "metadata": {},
   "outputs": [],
   "source": []
  },
  {
   "cell_type": "code",
   "execution_count": 5,
   "id": "41fff995",
   "metadata": {},
   "outputs": [
    {
     "name": "stdout",
     "output_type": "stream",
     "text": [
      "            code  lc                    product_name_en  quantity  \\\n",
      "0  0059749979702  fr                                NaN       NaN   \n",
      "1  7610095131409  en                                NaN       NaN   \n",
      "2  4005514005578  en  Gelbe Linse Avocado Brotaufstrich       NaN   \n",
      "5  3662994002063  fr                                NaN  3 fruits   \n",
      "6  8437013031011  fr                                NaN      1 kg   \n",
      "\n",
      "  serving_size packaging_tags                        brands  \\\n",
      "0          NaN            NaN                     Naturalia   \n",
      "1          NaN            NaN                       Zweifel   \n",
      "2          NaN            NaN                        Tartex   \n",
      "5          NaN            NaN  la compagnie des fruits mûrs   \n",
      "6          NaN            NaN                           NaN   \n",
      "\n",
      "                    brands_tags  \\\n",
      "0                     naturalia   \n",
      "1                       zweifel   \n",
      "2                        tartex   \n",
      "5  la-compagnie-des-fruits-murs   \n",
      "6                           NaN   \n",
      "\n",
      "                                     categories_tags  \\\n",
      "0  en:plant-based-foods-and-beverages,en:plant-ba...   \n",
      "1  en:snacks,en:salty-snacks,en:appetizers,en:chi...   \n",
      "2                              de:abendbrotsufstrich   \n",
      "5  en:plant-based-foods-and-beverages,en:plant-ba...   \n",
      "6  en:plant-based-foods-and-beverages,en:plant-ba...   \n",
      "\n",
      "                                     labels_tags           countries  \\\n",
      "0                                            NaN              Canada   \n",
      "1                         en:vegetarian,en:vegan  Switzerland, World   \n",
      "2  en:organic,en:eu-organic,en:eg-oko-verordnung             Germany   \n",
      "5                                            NaN              France   \n",
      "6                                            NaN              France   \n",
      "\n",
      "            countries_tags origins origins_tags  \n",
      "0                en:canada     NaN          NaN  \n",
      "1  en:switzerland,en:world     NaN          NaN  \n",
      "2               en:germany     NaN          NaN  \n",
      "5                en:france     NaN          NaN  \n",
      "6                en:france     NaN          NaN  \n"
     ]
    }
   ],
   "source": [
    "avocado = avocado.dropna(subset = 'categories_tags')\n",
    "print(avocado.head())"
   ]
  },
  {
   "cell_type": "code",
   "execution_count": 6,
   "id": "949bf6d2",
   "metadata": {},
   "outputs": [
    {
     "name": "stdout",
     "output_type": "stream",
     "text": [
      "            code  lc                    product_name_en  quantity  \\\n",
      "0  0059749979702  fr                                NaN       NaN   \n",
      "1  7610095131409  en                                NaN       NaN   \n",
      "2  4005514005578  en  Gelbe Linse Avocado Brotaufstrich       NaN   \n",
      "5  3662994002063  fr                                NaN  3 fruits   \n",
      "6  8437013031011  fr                                NaN      1 kg   \n",
      "\n",
      "  serving_size packaging_tags                        brands  \\\n",
      "0          NaN            NaN                     Naturalia   \n",
      "1          NaN            NaN                       Zweifel   \n",
      "2          NaN            NaN                        Tartex   \n",
      "5          NaN            NaN  la compagnie des fruits mûrs   \n",
      "6          NaN            NaN                           NaN   \n",
      "\n",
      "                    brands_tags  \\\n",
      "0                     naturalia   \n",
      "1                       zweifel   \n",
      "2                        tartex   \n",
      "5  la-compagnie-des-fruits-murs   \n",
      "6                           NaN   \n",
      "\n",
      "                                     categories_tags  \\\n",
      "0  en:plant-based-foods-and-beverages,en:plant-ba...   \n",
      "1  en:snacks,en:salty-snacks,en:appetizers,en:chi...   \n",
      "2                              de:abendbrotsufstrich   \n",
      "5  en:plant-based-foods-and-beverages,en:plant-ba...   \n",
      "6  en:plant-based-foods-and-beverages,en:plant-ba...   \n",
      "\n",
      "                                     labels_tags           countries  \\\n",
      "0                                            NaN              Canada   \n",
      "1                         en:vegetarian,en:vegan  Switzerland, World   \n",
      "2  en:organic,en:eu-organic,en:eg-oko-verordnung             Germany   \n",
      "5                                            NaN              France   \n",
      "6                                            NaN              France   \n",
      "\n",
      "            countries_tags origins origins_tags  \\\n",
      "0                en:canada     NaN          NaN   \n",
      "1  en:switzerland,en:world     NaN          NaN   \n",
      "2               en:germany     NaN          NaN   \n",
      "5                en:france     NaN          NaN   \n",
      "6                en:france     NaN          NaN   \n",
      "\n",
      "                                     categories_list  \n",
      "0  [en:plant-based-foods-and-beverages, en:plant-...  \n",
      "1  [en:snacks, en:salty-snacks, en:appetizers, en...  \n",
      "2                            [de:abendbrotsufstrich]  \n",
      "5  [en:plant-based-foods-and-beverages, en:plant-...  \n",
      "6  [en:plant-based-foods-and-beverages, en:plant-...  \n"
     ]
    }
   ],
   "source": [
    "avocado['categories_list']=avocado['categories_tags'].str.split(\",\")\n",
    "print(avocado.head())"
   ]
  },
  {
   "cell_type": "code",
   "execution_count": 13,
   "id": "b441cd0e",
   "metadata": {},
   "outputs": [
    {
     "name": "stdout",
     "output_type": "stream",
     "text": [
      "             code  lc product_name_en  quantity serving_size packaging_tags  \\\n",
      "5   3662994002063  fr             NaN  3 fruits          NaN            NaN   \n",
      "6   8437013031011  fr             NaN      1 kg          NaN            NaN   \n",
      "14  4016249238155  de             NaN      135g         100g    de:gläschen   \n",
      "17  8718963381532  de             NaN       NaN          NaN            NaN   \n",
      "23  8436002746707  es             NaN       NaN          NaN            NaN   \n",
      "\n",
      "                          brands                   brands_tags  \\\n",
      "5   la compagnie des fruits mûrs  la-compagnie-des-fruits-murs   \n",
      "6                            NaN                           NaN   \n",
      "14                         Allos                         allos   \n",
      "17                           NaN                           NaN   \n",
      "23                           NaN                           NaN   \n",
      "\n",
      "                                      categories_tags  \\\n",
      "5   en:plant-based-foods-and-beverages,en:plant-ba...   \n",
      "6   en:plant-based-foods-and-beverages,en:plant-ba...   \n",
      "14  en:plant-based-foods-and-beverages,en:plant-ba...   \n",
      "17  en:plant-based-foods-and-beverages,en:plant-ba...   \n",
      "23  en:plant-based-foods-and-beverages,en:plant-ba...   \n",
      "\n",
      "                                          labels_tags    countries  \\\n",
      "5                                                 NaN       France   \n",
      "6                                                 NaN       France   \n",
      "14  en:organic,en:vegetarian,en:eu-organic,en:no-g...  Deutschland   \n",
      "17                                                NaN  Deutschland   \n",
      "23                                                NaN       España   \n",
      "\n",
      "   countries_tags            origins       origins_tags  \\\n",
      "5       en:france                NaN                NaN   \n",
      "6       en:france                NaN                NaN   \n",
      "14     en:germany  Europäische Union  en:european-union   \n",
      "17     en:germany                NaN                NaN   \n",
      "23       en:spain                NaN                NaN   \n",
      "\n",
      "                                      categories_list  \n",
      "5   [en:plant-based-foods-and-beverages, en:plant-...  \n",
      "6   [en:plant-based-foods-and-beverages, en:plant-...  \n",
      "14  [en:plant-based-foods-and-beverages, en:plant-...  \n",
      "17  [en:plant-based-foods-and-beverages, en:plant-...  \n",
      "23  [en:plant-based-foods-and-beverages, en:plant-...  \n"
     ]
    }
   ],
   "source": [
    "relevant_avocado_categories=['en:avocadoes', 'en:avocados', 'en:fresh-foods', 'en:fresh-vegetables', 'en:fruchte', 'en:fruits', 'en:raw-green-avocados', 'en:tropical-fruits', 'en:tropische-fruchte', 'en:vegetables-based-foods','fr:hass-avocados']\n",
    "# Filtering a DataFrame based on a column of lists\n",
    "avocado = avocado[avocado['categories_list'].apply(lambda x: any([i for i in x if i in relevant_avocado_categories]))]\n",
    "print(avocado.head())"
   ]
  },
  {
   "cell_type": "code",
   "execution_count": null,
   "id": "b57a233d",
   "metadata": {},
   "outputs": [],
   "source": []
  },
  {
   "cell_type": "code",
   "execution_count": 14,
   "id": "09760ac6",
   "metadata": {},
   "outputs": [
    {
     "name": "stdout",
     "output_type": "stream",
     "text": [
      "              code  lc           product_name_en quantity serving_size  \\\n",
      "361       00985833  en                   Avacado    650 g          NaN   \n",
      "381       00040464  en                   Avocado      NaN          NaN   \n",
      "414  4088600100173  en                   Avocado    100 g          NaN   \n",
      "468       01307351  en          Avacados organic      NaN          NaN   \n",
      "508  5057172125395  en  Just Essentials Avocados    4pack          NaN   \n",
      "\n",
      "                              packaging_tags                  brands  \\\n",
      "361                                      NaN         Marks & Spencer   \n",
      "381                                      NaN                     NaN   \n",
      "414                 en:mixed-plastic-unknown                    Aldi   \n",
      "468                 en:card-tray,en:ldpe-bag  Sainsbury’s SO organic   \n",
      "508  en:mixed-plastic-film-packet-to-recycle                    Asda   \n",
      "\n",
      "                brands_tags  \\\n",
      "361           marks-spencer   \n",
      "381                     NaN   \n",
      "414                    aldi   \n",
      "468  sainsbury-s-so-organic   \n",
      "508                    asda   \n",
      "\n",
      "                                       categories_tags  \\\n",
      "361  en:plant-based-foods-and-beverages,en:plant-ba...   \n",
      "381  en:plant-based-foods-and-beverages,en:plant-ba...   \n",
      "414  en:plant-based-foods-and-beverages,en:plant-ba...   \n",
      "468  en:plant-based-foods-and-beverages,en:plant-ba...   \n",
      "508  en:plant-based-foods-and-beverages,en:plant-ba...   \n",
      "\n",
      "                                           labels_tags       countries  \\\n",
      "361                                                NaN  United Kingdom   \n",
      "381                                                NaN  United Kingdom   \n",
      "414                                                NaN  United Kingdom   \n",
      "468  en:organic,en:eu-organic,en:non-eu-agriculture...  United Kingdom   \n",
      "508                      en:class-i,en:contains-stones  United Kingdom   \n",
      "\n",
      "        countries_tags origins origins_tags  \\\n",
      "361  en:united-kingdom    Peru      en:peru   \n",
      "381  en:united-kingdom     NaN          NaN   \n",
      "414  en:united-kingdom     NaN          NaN   \n",
      "468  en:united-kingdom     NaN          NaN   \n",
      "508  en:united-kingdom    Peru      en:peru   \n",
      "\n",
      "                                       categories_list  \n",
      "361  [en:plant-based-foods-and-beverages, en:plant-...  \n",
      "381  [en:plant-based-foods-and-beverages, en:plant-...  \n",
      "414  [en:plant-based-foods-and-beverages, en:plant-...  \n",
      "468  [en:plant-based-foods-and-beverages, en:plant-...  \n",
      "508  [en:plant-based-foods-and-beverages, en:plant-...  \n"
     ]
    }
   ],
   "source": [
    "avocado_uk=avocado[avocado['countries']=='United Kingdom']\n",
    "print(avocado_uk.head())"
   ]
  },
  {
   "cell_type": "code",
   "execution_count": 9,
   "id": "48cce48b",
   "metadata": {},
   "outputs": [
    {
     "data": {
      "text/plain": [
       "(13, 15)"
      ]
     },
     "execution_count": 9,
     "metadata": {},
     "output_type": "execute_result"
    }
   ],
   "source": [
    "avocado_uk.shape"
   ]
  },
  {
   "cell_type": "code",
   "execution_count": null,
   "id": "aa263808",
   "metadata": {},
   "outputs": [],
   "source": []
  },
  {
   "cell_type": "code",
   "execution_count": null,
   "id": "080b196e",
   "metadata": {},
   "outputs": [],
   "source": []
  },
  {
   "cell_type": "code",
   "execution_count": null,
   "id": "f906f8b1",
   "metadata": {},
   "outputs": [],
   "source": []
  },
  {
   "cell_type": "code",
   "execution_count": null,
   "id": "c23311e5",
   "metadata": {},
   "outputs": [],
   "source": []
  },
  {
   "cell_type": "code",
   "execution_count": null,
   "id": "09486f42",
   "metadata": {},
   "outputs": [],
   "source": []
  },
  {
   "cell_type": "code",
   "execution_count": null,
   "id": "cf56a5c2",
   "metadata": {},
   "outputs": [],
   "source": []
  },
  {
   "cell_type": "code",
   "execution_count": null,
   "id": "2c87fd88",
   "metadata": {},
   "outputs": [],
   "source": []
  },
  {
   "cell_type": "code",
   "execution_count": null,
   "id": "27da2543",
   "metadata": {},
   "outputs": [],
   "source": []
  },
  {
   "cell_type": "code",
   "execution_count": null,
   "id": "542e534f",
   "metadata": {},
   "outputs": [],
   "source": []
  }
 ],
 "metadata": {
  "colab": {
   "name": "Welcome to DataCamp Workspaces.ipynb",
   "provenance": []
  },
  "kernelspec": {
   "display_name": "Python 3 (ipykernel)",
   "language": "python",
   "name": "python3"
  },
  "language_info": {
   "codemirror_mode": {
    "name": "ipython",
    "version": 3
   },
   "file_extension": ".py",
   "mimetype": "text/x-python",
   "name": "python",
   "nbconvert_exporter": "python",
   "pygments_lexer": "ipython3",
   "version": "3.10.4"
  }
 },
 "nbformat": 4,
 "nbformat_minor": 5
}
